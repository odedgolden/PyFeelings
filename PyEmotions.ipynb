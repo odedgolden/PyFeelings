{
  "nbformat": 4,
  "nbformat_minor": 0,
  "metadata": {
    "colab": {
      "name": "PyEmotions.ipynb",
      "version": "0.3.2",
      "provenance": [],
      "include_colab_link": true
    },
    "kernelspec": {
      "name": "python3",
      "display_name": "Python 3"
    }
  },
  "cells": [
    {
      "cell_type": "markdown",
      "metadata": {
        "id": "view-in-github",
        "colab_type": "text"
      },
      "source": [
        "<a href=\"https://colab.research.google.com/github/odedgolden/PyFeelings/blob/develop/PyEmotions.ipynb\" target=\"_parent\"><img src=\"https://colab.research.google.com/assets/colab-badge.svg\" alt=\"Open In Colab\"/></a>"
      ]
    },
    {
      "cell_type": "code",
      "metadata": {
        "id": "n_UsNgUBrsNR",
        "colab_type": "code",
        "colab": {}
      },
      "source": [
        "# Torch:\n",
        "import torch\n",
        "import torch.nn as nn\n",
        "import torchvision\n",
        "import torchvision.transforms as transforms\n",
        "from torch.utils.data import Dataset, DataLoader\n",
        "from torch.optim import Optimizer\n",
        "import torch.nn.functional as F\n",
        "\n",
        "# Other Libraries:\n",
        "import matplotlib.pyplot as plt\n",
        "import seaborn as sns\n",
        "import numpy as np\n",
        "import pandas as pd\n",
        "import math\n",
        "from enum import Enum\n",
        "import pickle\n",
        "\n",
        "from google.colab import drive\n",
        "drive.mount('/content/drive')"
      ],
      "execution_count": 0,
      "outputs": []
    },
    {
      "cell_type": "code",
      "metadata": {
        "id": "lMBa07XMsj7e",
        "colab_type": "code",
        "colab": {}
      },
      "source": [
        "root = '/content/drive/My Drive/Colab Notebooks/Research/'\n",
        "  \n",
        "def save_obj(obj, name ):\n",
        "    with open(root + 'obj/' + name + '.pkl', 'wb+') as f:\n",
        "        pickle.dump(obj, f, pickle.HIGHEST_PROTOCOL)\n",
        "\n",
        "def load_obj(name ):\n",
        "    with open(root + 'obj/' + name + '.pkl', 'rb') as f:\n",
        "        return pickle.load(f)\n",
        "\n"
      ],
      "execution_count": 0,
      "outputs": []
    },
    {
      "cell_type": "markdown",
      "metadata": {
        "id": "8KYDQ3tR-Czn",
        "colab_type": "text"
      },
      "source": [
        "#Load RAVDESS Video Data"
      ]
    },
    {
      "cell_type": "code",
      "metadata": {
        "id": "CNLWZzSy9dWv",
        "colab_type": "code",
        "colab": {}
      },
      "source": [
        "RAVDESS_DIR = '/content/drive/My Drive/Colab Notebooks/Research/RAVDESS'"
      ],
      "execution_count": 0,
      "outputs": []
    }
  ]
}