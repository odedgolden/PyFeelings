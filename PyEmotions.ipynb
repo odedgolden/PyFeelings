{
  "nbformat": 4,
  "nbformat_minor": 0,
  "metadata": {
    "colab": {
      "name": "PyEmotions.ipynb",
      "version": "0.3.2",
      "provenance": [],
      "include_colab_link": true
    },
    "kernelspec": {
      "name": "python3",
      "display_name": "Python 3"
    }
  },
  "cells": [
    {
      "cell_type": "markdown",
      "metadata": {
        "id": "view-in-github",
        "colab_type": "text"
      },
      "source": [
        "<a href=\"https://colab.research.google.com/github/odedgolden/PyFeelings/blob/master/PyEmotions.ipynb\" target=\"_parent\"><img src=\"https://colab.research.google.com/assets/colab-badge.svg\" alt=\"Open In Colab\"/></a>"
      ]
    },
    {
      "cell_type": "code",
      "metadata": {
        "id": "n_UsNgUBrsNR",
        "colab_type": "code",
        "colab": {
          "base_uri": "https://localhost:8080/",
          "height": 34
        },
        "outputId": "ebe03fe6-d56d-4816-f582-7beb29a831c0"
      },
      "source": [
        "# Torch:\n",
        "import torch\n",
        "import torch.nn as nn\n",
        "import torchvision\n",
        "import torchvision.transforms as transforms\n",
        "from torch.utils.data import Dataset, DataLoader\n",
        "from torch.optim import Optimizer\n",
        "import torch.nn.functional as F\n",
        "\n",
        "# Other Libraries:\n",
        "import matplotlib.pyplot as plt\n",
        "import seaborn as sns\n",
        "import numpy as np\n",
        "import pandas as pd\n",
        "import math\n",
        "from enum import Enum\n",
        "import pickle\n",
        "import urllib.request\n",
        "import zipfile\n",
        "\n",
        "from google.colab import drive\n",
        "drive.mount('/content/drive')"
      ],
      "execution_count": 1,
      "outputs": [
        {
          "output_type": "stream",
          "text": [
            "Drive already mounted at /content/drive; to attempt to forcibly remount, call drive.mount(\"/content/drive\", force_remount=True).\n"
          ],
          "name": "stdout"
        }
      ]
    },
    {
      "cell_type": "code",
      "metadata": {
        "id": "lMBa07XMsj7e",
        "colab_type": "code",
        "colab": {}
      },
      "source": [
        "root = '/content/drive/My Drive/Colab Notebooks/Research/'\n",
        "  \n",
        "def save_obj(obj, name ):\n",
        "    with open(root + 'obj/' + name + '.pkl', 'wb+') as f:\n",
        "        pickle.dump(obj, f, pickle.HIGHEST_PROTOCOL)\n",
        "\n",
        "def load_obj(name ):\n",
        "    with open(root + 'obj/' + name + '.pkl', 'rb') as f:\n",
        "        return pickle.load(f)\n",
        "\n"
      ],
      "execution_count": 0,
      "outputs": []
    },
    {
      "cell_type": "markdown",
      "metadata": {
        "id": "8KYDQ3tR-Czn",
        "colab_type": "text"
      },
      "source": [
        "#Load RAVDESS Video Data"
      ]
    },
    {
      "cell_type": "code",
      "metadata": {
        "id": "CNLWZzSy9dWv",
        "colab_type": "code",
        "colab": {
          "base_uri": "https://localhost:8080/",
          "height": 527
        },
        "outputId": "7ab1c7d3-440b-4cbb-9a9d-e767a0c5d62e"
      },
      "source": [
        "RAVDESS_DRIVE_DIR = '/content/drive/My Drive/Colab Notebooks/Research/RAVDESS/'\n",
        "RAVDESS_BASE_URL = 'https://zenodo.org/record/1188976/files/'\n",
        "\n",
        "RAVEDESS_VIDEO_SONG_FILE_NAME_TEMPLATE = 'Video_Song_Actor_'\n",
        "RAVEDESS_VIDEO_SPEECH_FILE_NAME_TEMPLATE = 'Video_Speech_Actor_'\n",
        "\n",
        "FILE_SUFFIX = '.zip'\n",
        "\n",
        "RAVEDESS_AUDIO_FILE_NAME_SONG = 'Audio_Song_Actors_01-24.zip'\n",
        "RAVEDESS_AUDIO_FILE_NAME_SPEECH = 'Audio_Speech_Actors_01-24.zip'\n",
        "\n",
        "for i in range(1,25):\n",
        "  url_string = RAVDESS_BASE_URL+RAVEDESS_VIDEO_SONG_FILE_NAME_TEMPLATE+\"{:02d}\".format(i)+FILE_SUFFIX\n",
        "  print(url_string)\n",
        "  drive_file_string = RAVDESS_DRIVE_DIR+RAVEDESS_VIDEO_SONG_FILE_NAME_TEMPLATE+\"{:02d}\".format(i)+FILE_SUFFIX\n",
        "  try:\n",
        "    urllib.request.urlretrieve(url_string, drive_file_string)\n",
        "    print('Extracting: '+drive_file_string)\n",
        "    with zipfile.ZipFile(drive_file_string, 'r') as zip_ref:\n",
        "      zip_ref.extractall(drive_file_string.split('.')[0])\n",
        "  except:\n",
        "    print(\"An exception occurred\")\n"
      ],
      "execution_count": 0,
      "outputs": [
        {
          "output_type": "stream",
          "text": [
            "https://zenodo.org/record/1188976/files/Video_Song_Actor_01.zip\n",
            "Extracting: /content/drive/My Drive/Colab Notebooks/Research/RAVDESS/Video_Song_Actor_01.zip\n",
            "https://zenodo.org/record/1188976/files/Video_Song_Actor_02.zip\n",
            "Extracting: /content/drive/My Drive/Colab Notebooks/Research/RAVDESS/Video_Song_Actor_02.zip\n",
            "https://zenodo.org/record/1188976/files/Video_Song_Actor_03.zip\n",
            "Extracting: /content/drive/My Drive/Colab Notebooks/Research/RAVDESS/Video_Song_Actor_03.zip\n",
            "https://zenodo.org/record/1188976/files/Video_Song_Actor_04.zip\n",
            "Extracting: /content/drive/My Drive/Colab Notebooks/Research/RAVDESS/Video_Song_Actor_04.zip\n",
            "https://zenodo.org/record/1188976/files/Video_Song_Actor_05.zip\n",
            "Extracting: /content/drive/My Drive/Colab Notebooks/Research/RAVDESS/Video_Song_Actor_05.zip\n",
            "https://zenodo.org/record/1188976/files/Video_Song_Actor_06.zip\n",
            "Extracting: /content/drive/My Drive/Colab Notebooks/Research/RAVDESS/Video_Song_Actor_06.zip\n",
            "https://zenodo.org/record/1188976/files/Video_Song_Actor_07.zip\n",
            "Extracting: /content/drive/My Drive/Colab Notebooks/Research/RAVDESS/Video_Song_Actor_07.zip\n",
            "https://zenodo.org/record/1188976/files/Video_Song_Actor_08.zip\n",
            "Extracting: /content/drive/My Drive/Colab Notebooks/Research/RAVDESS/Video_Song_Actor_08.zip\n",
            "https://zenodo.org/record/1188976/files/Video_Song_Actor_09.zip\n",
            "Extracting: /content/drive/My Drive/Colab Notebooks/Research/RAVDESS/Video_Song_Actor_09.zip\n",
            "https://zenodo.org/record/1188976/files/Video_Song_Actor_10.zip\n",
            "Extracting: /content/drive/My Drive/Colab Notebooks/Research/RAVDESS/Video_Song_Actor_10.zip\n",
            "https://zenodo.org/record/1188976/files/Video_Song_Actor_11.zip\n",
            "Extracting: /content/drive/My Drive/Colab Notebooks/Research/RAVDESS/Video_Song_Actor_11.zip\n",
            "https://zenodo.org/record/1188976/files/Video_Song_Actor_12.zip\n",
            "An exception occurred\n",
            "https://zenodo.org/record/1188976/files/Video_Song_Actor_13.zip\n",
            "An exception occurred\n",
            "https://zenodo.org/record/1188976/files/Video_Song_Actor_14.zip\n",
            "Extracting: /content/drive/My Drive/Colab Notebooks/Research/RAVDESS/Video_Song_Actor_14.zip\n",
            "An exception occurred\n",
            "https://zenodo.org/record/1188976/files/Video_Song_Actor_15.zip\n"
          ],
          "name": "stdout"
        }
      ]
    },
    {
      "cell_type": "code",
      "metadata": {
        "id": "vIucZDXzf88p",
        "colab_type": "code",
        "colab": {
          "base_uri": "https://localhost:8080/",
          "height": 34
        },
        "outputId": "84ab9e0b-5557-4426-8f20-7f1543c8cfee"
      },
      "source": [
        "for i in range(1,25):\n",
        "  drive_file_string = RAVDESS_DRIVE_DIR+'VIDEO'+\"{:02d}\".format(i)+FILE_SUFFIX\n",
        "  !unzip(drive_file_string)\n"
      ],
      "execution_count": 3,
      "outputs": [
        {
          "output_type": "stream",
          "text": [
            "10\n"
          ],
          "name": "stdout"
        }
      ]
    },
    {
      "cell_type": "code",
      "metadata": {
        "id": "swf3FNHvf9n2",
        "colab_type": "code",
        "colab": {}
      },
      "source": [
        ""
      ],
      "execution_count": 0,
      "outputs": []
    }
  ]
}