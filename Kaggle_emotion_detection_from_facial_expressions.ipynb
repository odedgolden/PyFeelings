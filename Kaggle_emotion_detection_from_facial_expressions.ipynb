{
  "nbformat": 4,
  "nbformat_minor": 0,
  "metadata": {
    "colab": {
      "name": "Kaggle-emotion-detection-from-facial-expressions.ipynb",
      "version": "0.3.2",
      "provenance": [],
      "include_colab_link": true
    },
    "kernelspec": {
      "name": "python3",
      "display_name": "Python 3"
    }
  },
  "cells": [
    {
      "cell_type": "markdown",
      "metadata": {
        "id": "view-in-github",
        "colab_type": "text"
      },
      "source": [
        "<a href=\"https://colab.research.google.com/github/odedgolden/PyFeelings/blob/master/Kaggle_emotion_detection_from_facial_expressions.ipynb\" target=\"_parent\"><img src=\"https://colab.research.google.com/assets/colab-badge.svg\" alt=\"Open In Colab\"/></a>"
      ]
    },
    {
      "cell_type": "code",
      "metadata": {
        "id": "BoxEpEl8V_WH",
        "colab_type": "code",
        "colab": {}
      },
      "source": [
        "# Torch:\n",
        "import torch\n",
        "import torch.nn as nn\n",
        "import torchvision\n",
        "import torchvision.transforms as transforms\n",
        "from torch.utils.data import Dataset, DataLoader\n",
        "from torch.optim import Optimizer\n",
        "import torch.nn.functional as F\n",
        "\n",
        "# Other Libraries:\n",
        "import matplotlib.pyplot as plt\n",
        "import seaborn as sns\n",
        "import numpy as np\n",
        "import pandas as pd\n",
        "import math\n",
        "from enum import Enum\n",
        "import pickle\n",
        "import urllib.request\n",
        "import zipfile\n",
        "\n",
        "from google.colab import drive\n",
        "drive.mount('/content/drive')"
      ],
      "execution_count": 0,
      "outputs": []
    },
    {
      "cell_type": "markdown",
      "metadata": {
        "id": "WS7JFQIzWGtg",
        "colab_type": "text"
      },
      "source": [
        "https://www.kaggle.com/c/emotion-detection-from-facial-expressions"
      ]
    },
    {
      "cell_type": "code",
      "metadata": {
        "id": "v-QN2PDPWIhn",
        "colab_type": "code",
        "colab": {}
      },
      "source": [
        ""
      ],
      "execution_count": 0,
      "outputs": []
    }
  ]
}